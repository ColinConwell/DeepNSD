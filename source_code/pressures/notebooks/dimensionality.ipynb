{
 "cells": [
  {
   "cell_type": "code",
   "execution_count": 1,
   "id": "4ae4e925-3007-4a8c-a96b-8749f4897b95",
   "metadata": {},
   "outputs": [],
   "source": [
    "import sys; sys.path += ['..']\n",
    "from main_analysis import *\n",
    "\n",
    "from glob import glob\n",
    "import seaborn as sns\n",
    "from torchinfo import summary\n",
    "\n",
    "from plotnine import * # python's ggplot\n",
    "import plotnine.options as plotnine_opts"
   ]
  },
  {
   "cell_type": "code",
   "execution_count": 2,
   "id": "9c4ee002-c701-4aa9-8ead-0a554e0e1012",
   "metadata": {},
   "outputs": [
    {
     "name": "stdout",
     "output_type": "stream",
     "text": [
      "Now loading the shared1000 image set and the OTC-only voxel set...\n"
     ]
    }
   ],
   "source": [
    "benchmark = 'shared1000_OTC-only'\n",
    "target_region = 'OTC'\n",
    "benchmark = NSDBenchmark(*benchmark.split('_'))\n",
    "image_paths = benchmark.stimulus_data.image_path"
   ]
  },
  {
   "cell_type": "markdown",
   "id": "f41207d6-c17f-4530-8c25-7629cf0a8bb8",
   "metadata": {
    "jp-MarkdownHeadingCollapsed": true,
    "tags": []
   },
   "source": [
    "### AlexNet Benchmarking Results"
   ]
  },
  {
   "cell_type": "code",
   "execution_count": null,
   "id": "40218dd1-e9b5-4ffe-b08b-00aafbe28b5e",
   "metadata": {},
   "outputs": [],
   "source": [
    "model_string = 'alexnet_classification'\n",
    "model_option = get_model_options()[model_string]\n",
    "model_option['model_string'] = model_string\n",
    "model_option['model'] = eval(model_option['call'])\n",
    "model_option['transforms'] = get_recommended_transforms(model_string)"
   ]
  },
  {
   "cell_type": "code",
   "execution_count": null,
   "id": "2a3d4a8d-c493-417c-bd20-17e9c58085f3",
   "metadata": {},
   "outputs": [],
   "source": [
    "image_path, image_transforms = benchmark.stimulus_data.image_path, model_option['transforms']\n",
    "stimulus_loader = DataLoader(StimulusSet(image_path, image_transforms), batch_size = 64)"
   ]
  },
  {
   "cell_type": "code",
   "execution_count": null,
   "id": "b5cf5810-b1ff-45c9-9b30-185ce762ad8c",
   "metadata": {},
   "outputs": [],
   "source": [
    "feature_maps = get_all_feature_maps(model_option['model'], stimulus_loader)"
   ]
  },
  {
   "cell_type": "code",
   "execution_count": null,
   "id": "576fd54f-cee6-40f3-9a43-792b427a1c8d",
   "metadata": {},
   "outputs": [],
   "source": [
    "feature_maps_redux = get_feature_map_srps(feature_maps)"
   ]
  },
  {
   "cell_type": "code",
   "execution_count": null,
   "id": "661d4865-95a6-4433-b79b-30a3f15486a2",
   "metadata": {},
   "outputs": [],
   "source": [
    "precomputed_feature_maps = {'original': feature_maps,\n",
    "                            'redux': feature_maps_redux}"
   ]
  },
  {
   "cell_type": "code",
   "execution_count": null,
   "id": "bbe630cf-2756-473d-93cb-322808999a8f",
   "metadata": {},
   "outputs": [],
   "source": [
    "results = get_benchmarking_results(benchmark, model_option, precomputed_feature_maps)"
   ]
  },
  {
   "cell_type": "code",
   "execution_count": null,
   "id": "218a5077",
   "metadata": {},
   "outputs": [],
   "source": [
    "get_results_max(results['crsa'], average_over = ['subj_id']).query(\"region == @target_region\")"
   ]
  },
  {
   "cell_type": "code",
   "execution_count": null,
   "id": "d666cefd-1d3d-476f-939b-be3bb3107b03",
   "metadata": {},
   "outputs": [],
   "source": [
    "get_results_max(results['wrsa'], average_over = ['subj_id']).query(\"region == @target_region\")"
   ]
  },
  {
   "cell_type": "markdown",
   "id": "0e926bfd-fdac-49f9-a906-04a34d02e910",
   "metadata": {
    "jp-MarkdownHeadingCollapsed": true,
    "tags": []
   },
   "source": [
    "### AlexNet Effective Dimensionality"
   ]
  },
  {
   "cell_type": "code",
   "execution_count": null,
   "id": "8976cd50-b28d-4570-98c6-10a69ac8e816",
   "metadata": {},
   "outputs": [],
   "source": [
    "from manifolds import ManifoldGeometry\n",
    "\n",
    "def get_effective_dimensionality(representation):\n",
    "    pca = PCA(random_state=0).fit(representation)\n",
    "    eigenspectrum = pca.explained_variance_\n",
    "    return eigenspectrum.sum() ** 2 / (eigenspectrum ** 2).sum()"
   ]
  },
  {
   "cell_type": "code",
   "execution_count": null,
   "id": "cb63e217-161f-413f-8e44-110960b68785",
   "metadata": {},
   "outputs": [],
   "source": [
    "get_effective_dimensionality(feature_maps['Linear-1'])"
   ]
  },
  {
   "cell_type": "code",
   "execution_count": null,
   "id": "3d559217-0545-49e4-9a97-38e3f6382f7e",
   "metadata": {},
   "outputs": [],
   "source": [
    "ManifoldGeometry(feature_maps['Linear-1']).dimensionality"
   ]
  },
  {
   "cell_type": "code",
   "execution_count": null,
   "id": "2574a928-0749-470d-8cff-78fb43fba8a9",
   "metadata": {},
   "outputs": [],
   "source": [
    "geometry_dictlist = []\n",
    "for model_layer_index, model_layer in enumerate(tqdm(feature_maps)):\n",
    "    geometry = get_effective_dimensionality(feature_maps[model_layer])\n",
    "    geometry_redux = get_effective_dimensionality(feature_maps_redux[model_layer])\n",
    "    geometry_dictlist.append({'model_layer': model_layer, 'model_layer_index': model_layer_index,\n",
    "                              'effective_dimensions': geometry,\n",
    "                              'effective_dimensions_redux': geometry_redux})\n",
    "    \n",
    "manifold_geometry = pd.DataFrame(geometry_dictlist)"
   ]
  },
  {
   "cell_type": "code",
   "execution_count": null,
   "id": "e444ee1a-294a-4a86-8460-f8fd7992383b",
   "metadata": {},
   "outputs": [],
   "source": [
    "pearsonr(manifold_geometry.effective_dimensions, manifold_geometry.effective_dimensions_redux)"
   ]
  },
  {
   "cell_type": "code",
   "execution_count": null,
   "id": "d3f3eed5-5d7c-46f8-8973-874300e24af9",
   "metadata": {},
   "outputs": [],
   "source": [
    "geometry_dictlist = []\n",
    "for model_layer_index, model_layer in enumerate(tqdm(feature_maps)):\n",
    "    geometry = ManifoldGeometry(feature_maps[model_layer])\n",
    "    geometry_redux = ManifoldGeometry(feature_maps_redux[model_layer])\n",
    "    geometry_dictlist.append({'model_layer': model_layer, 'model_layer_index': model_layer_index,\n",
    "                              'effective_dimensions': geometry.dimensionality,\n",
    "                              'effective_dimensions_redux': geometry_redux.dimensionality})\n",
    "    \n",
    "manifold_geometry = pd.DataFrame(geometry_dictlist)"
   ]
  },
  {
   "cell_type": "code",
   "execution_count": null,
   "id": "7c09fb87-ccce-4f08-852a-d3f5f836ed4e",
   "metadata": {},
   "outputs": [],
   "source": [
    "results_combo = (results['wrsa'].merge(manifold_geometry, on = ['model_layer','model_layer_index'])\n",
    "                 .groupby(['region','model_layer_index','model_layer'])\n",
    "                 ['score','effective_dimensions', 'effective_dimensions_redux'].mean()).reset_index()"
   ]
  },
  {
   "cell_type": "code",
   "execution_count": null,
   "id": "76419757-2a3e-48c2-9c62-81a78716e2e6",
   "metadata": {},
   "outputs": [],
   "source": [
    "results_combo.query('region == @target_region')"
   ]
  },
  {
   "cell_type": "code",
   "execution_count": null,
   "id": "dc64d2de-1bf3-46ed-804a-61560788cced",
   "metadata": {},
   "outputs": [],
   "source": [
    "plot_data = results_combo.query('region == @target_region')\n",
    "sns.lmplot(data = plot_data, x = 'effective_dimensions', y = 'score');"
   ]
  },
  {
   "cell_type": "markdown",
   "id": "60ddd470-9deb-4cca-afdc-148138404b31",
   "metadata": {
    "jp-MarkdownHeadingCollapsed": true,
    "tags": []
   },
   "source": [
    "### ResNet18 Effective Dimensionality"
   ]
  },
  {
   "cell_type": "code",
   "execution_count": null,
   "id": "cf20e59b-7ac3-4b0f-8d37-a608d29a7907",
   "metadata": {},
   "outputs": [],
   "source": [
    "model_string = 'resnet18_classification'\n",
    "model_option = get_model_options()[model_string]\n",
    "model = eval(model_option['call'])\n",
    "\n",
    "image_transforms = get_recommended_transforms(model_string)\n",
    "stimulus_loader = DataLoader(StimulusSet(image_paths, image_transforms), batch_size = 64)"
   ]
  },
  {
   "cell_type": "code",
   "execution_count": null,
   "id": "86b7ba90-535f-483c-860c-70884294acc7",
   "metadata": {},
   "outputs": [],
   "source": [
    "feature_maps = get_all_feature_maps(model, stimulus_loader)\n",
    "feature_maps_redux = get_feature_map_srps(feature_maps)"
   ]
  },
  {
   "cell_type": "code",
   "execution_count": null,
   "id": "b34562d8-7892-4902-8275-eba3c1577824",
   "metadata": {},
   "outputs": [],
   "source": [
    "precomputed_feature_maps = {'original': feature_maps,\n",
    "                            'redux': feature_maps_redux}"
   ]
  },
  {
   "cell_type": "code",
   "execution_count": null,
   "id": "d78fce6f-e7fa-4090-80e7-45f00c7a816a",
   "metadata": {},
   "outputs": [],
   "source": [
    "results = get_benchmarking_results(benchmark, model_option, precomputed_feature_maps)"
   ]
  },
  {
   "cell_type": "code",
   "execution_count": null,
   "id": "4b1b2788-36c2-4a30-b082-966fbb788d8a",
   "metadata": {},
   "outputs": [],
   "source": [
    "def get_effective_dimensionality(representation):\n",
    "    pca = PCA(random_state=0).fit(representation)\n",
    "    eigenspectrum = pca.explained_variance_\n",
    "    return eigenspectrum.sum() ** 2 / (eigenspectrum ** 2).sum()\n",
    "\n",
    "geometry_dictlist = []\n",
    "for model_layer_index, model_layer in enumerate(tqdm(feature_maps_redux)):\n",
    "    geometry = get_effective_dimensionality(feature_maps_redux[model_layer])\n",
    "    geometry_dictlist.append({'model_layer': model_layer, 'model_layer_index': model_layer_index,\n",
    "                              'effective_dimensions': geometry})\n",
    "    \n",
    "manifold_geometry = pd.DataFrame(geometry_dictlist)"
   ]
  },
  {
   "cell_type": "code",
   "execution_count": null,
   "id": "f01bda2d-fc8a-4c74-8541-ba4ab3062099",
   "metadata": {},
   "outputs": [],
   "source": [
    "plot_data = manifold_geometry[manifold_geometry['model_layer'].str.contains('ReLU')]\n",
    "plot_data['model_layer_index'] = plot_data['model_layer'].str.split('-').str[-1]\n",
    "sns.lineplot(data = plot_data, x = 'model_layer_index', y = 'effective_dimensions');"
   ]
  },
  {
   "cell_type": "code",
   "execution_count": null,
   "id": "779d26ca-3b76-4fab-8f3e-c9d963792eb8",
   "metadata": {},
   "outputs": [],
   "source": [
    "results_combo = (results['wrsa'].merge(manifold_geometry, on = ['model_layer','model_layer_index'])\n",
    "                 .groupby(['region','model_layer_index','model_layer'])\n",
    "                 ['score','effective_dimensions'].mean()).reset_index()"
   ]
  },
  {
   "cell_type": "code",
   "execution_count": null,
   "id": "a76b8c4f-e374-45ec-9ea9-29abcb015136",
   "metadata": {},
   "outputs": [],
   "source": [
    "plot_data = results_combo[(results_combo['model_layer'].str.contains('ReLU')) &\n",
    "                          (results_combo['region'] == target_region)]\n",
    "sns.lmplot(data = plot_data, x = 'effective_dimensions', y = 'score');"
   ]
  },
  {
   "cell_type": "markdown",
   "id": "64ccd0de-c0be-4527-8468-92764b05be62",
   "metadata": {},
   "source": [
    "### ResNet18 Double Check"
   ]
  },
  {
   "cell_type": "code",
   "execution_count": 3,
   "id": "82317149-e160-4969-93c7-b29ee2970067",
   "metadata": {},
   "outputs": [],
   "source": [
    "from torch.nn import functional as F"
   ]
  },
  {
   "cell_type": "code",
   "execution_count": 4,
   "id": "ea77fd6d-ba41-4836-9758-5135d9e210d5",
   "metadata": {},
   "outputs": [
    {
     "name": "stdout",
     "output_type": "stream",
     "text": [
      "Now loading the shared1000 image set and the OTC-only voxel set...\n"
     ]
    }
   ],
   "source": [
    "benchmark = 'shared1000_OTC-only'\n",
    "target_region = 'OTC'\n",
    "benchmark = NSDBenchmark(*benchmark.split('_'))\n",
    "image_paths = benchmark.stimulus_data.image_path"
   ]
  },
  {
   "cell_type": "code",
   "execution_count": 5,
   "id": "67095ff3-a1b7-4533-be4a-3f01ff3ce71b",
   "metadata": {},
   "outputs": [],
   "source": [
    "model_string = 'resnet18_classification'\n",
    "model_option = get_model_options()[model_string]\n",
    "model = eval(model_option['call'])"
   ]
  },
  {
   "cell_type": "code",
   "execution_count": 6,
   "id": "47656254-c7f4-415d-ad83-0a9aff43aed5",
   "metadata": {},
   "outputs": [
    {
     "data": {
      "text/plain": [
       "=================================================================\n",
       "Layer (type:depth-idx)                   Param #\n",
       "=================================================================\n",
       "ResNet                                   --\n",
       "├─Conv2d: 1-1                            9,408\n",
       "├─BatchNorm2d: 1-2                       128\n",
       "├─ReLU: 1-3                              --\n",
       "├─MaxPool2d: 1-4                         --\n",
       "├─Sequential: 1-5                        --\n",
       "│    └─BasicBlock: 2-1                   --\n",
       "│    │    └─Conv2d: 3-1                  36,864\n",
       "│    │    └─BatchNorm2d: 3-2             128\n",
       "│    │    └─ReLU: 3-3                    --\n",
       "│    │    └─Conv2d: 3-4                  36,864\n",
       "│    │    └─BatchNorm2d: 3-5             128\n",
       "│    └─BasicBlock: 2-2                   --\n",
       "│    │    └─Conv2d: 3-6                  36,864\n",
       "│    │    └─BatchNorm2d: 3-7             128\n",
       "│    │    └─ReLU: 3-8                    --\n",
       "│    │    └─Conv2d: 3-9                  36,864\n",
       "│    │    └─BatchNorm2d: 3-10            128\n",
       "├─Sequential: 1-6                        --\n",
       "│    └─BasicBlock: 2-3                   --\n",
       "│    │    └─Conv2d: 3-11                 73,728\n",
       "│    │    └─BatchNorm2d: 3-12            256\n",
       "│    │    └─ReLU: 3-13                   --\n",
       "│    │    └─Conv2d: 3-14                 147,456\n",
       "│    │    └─BatchNorm2d: 3-15            256\n",
       "│    │    └─Sequential: 3-16             --\n",
       "│    │    │    └─Conv2d: 4-1             8,192\n",
       "│    │    │    └─BatchNorm2d: 4-2        256\n",
       "│    └─BasicBlock: 2-4                   --\n",
       "│    │    └─Conv2d: 3-17                 147,456\n",
       "│    │    └─BatchNorm2d: 3-18            256\n",
       "│    │    └─ReLU: 3-19                   --\n",
       "│    │    └─Conv2d: 3-20                 147,456\n",
       "│    │    └─BatchNorm2d: 3-21            256\n",
       "├─Sequential: 1-7                        --\n",
       "│    └─BasicBlock: 2-5                   --\n",
       "│    │    └─Conv2d: 3-22                 294,912\n",
       "│    │    └─BatchNorm2d: 3-23            512\n",
       "│    │    └─ReLU: 3-24                   --\n",
       "│    │    └─Conv2d: 3-25                 589,824\n",
       "│    │    └─BatchNorm2d: 3-26            512\n",
       "│    │    └─Sequential: 3-27             --\n",
       "│    │    │    └─Conv2d: 4-3             32,768\n",
       "│    │    │    └─BatchNorm2d: 4-4        512\n",
       "│    └─BasicBlock: 2-6                   --\n",
       "│    │    └─Conv2d: 3-28                 589,824\n",
       "│    │    └─BatchNorm2d: 3-29            512\n",
       "│    │    └─ReLU: 3-30                   --\n",
       "│    │    └─Conv2d: 3-31                 589,824\n",
       "│    │    └─BatchNorm2d: 3-32            512\n",
       "├─Sequential: 1-8                        --\n",
       "│    └─BasicBlock: 2-7                   --\n",
       "│    │    └─Conv2d: 3-33                 1,179,648\n",
       "│    │    └─BatchNorm2d: 3-34            1,024\n",
       "│    │    └─ReLU: 3-35                   --\n",
       "│    │    └─Conv2d: 3-36                 2,359,296\n",
       "│    │    └─BatchNorm2d: 3-37            1,024\n",
       "│    │    └─Sequential: 3-38             --\n",
       "│    │    │    └─Conv2d: 4-5             131,072\n",
       "│    │    │    └─BatchNorm2d: 4-6        1,024\n",
       "│    └─BasicBlock: 2-8                   --\n",
       "│    │    └─Conv2d: 3-39                 2,359,296\n",
       "│    │    └─BatchNorm2d: 3-40            1,024\n",
       "│    │    └─ReLU: 3-41                   --\n",
       "│    │    └─Conv2d: 3-42                 2,359,296\n",
       "│    │    └─BatchNorm2d: 3-43            1,024\n",
       "├─AdaptiveAvgPool2d: 1-9                 --\n",
       "├─Linear: 1-10                           513,000\n",
       "=================================================================\n",
       "Total params: 11,689,512\n",
       "Trainable params: 11,689,512\n",
       "Non-trainable params: 0\n",
       "================================================================="
      ]
     },
     "execution_count": 6,
     "metadata": {},
     "output_type": "execute_result"
    }
   ],
   "source": [
    "summary(model, depth = 5, verbose = 0)"
   ]
  },
  {
   "cell_type": "code",
   "execution_count": 8,
   "id": "c6a8ecc2-6d87-4444-840f-f4b60f077fd0",
   "metadata": {},
   "outputs": [
    {
     "data": {
      "application/vnd.jupyter.widget-view+json": {
       "model_id": "439f6eaabf604996a0a3bcf5dcc528a6",
       "version_major": 2,
       "version_minor": 0
      },
      "text/plain": [
       "Feature Extraction (Batch):   0%|          | 0/16 [00:00<?, ?it/s]"
      ]
     },
     "metadata": {},
     "output_type": "display_data"
    }
   ],
   "source": [
    "image_transforms = get_recommended_transforms(model_string)\n",
    "image_loader = DataLoader(StimulusSet(image_paths, image_transforms), batch_size = 64)\n",
    "\n",
    "target_layers = ['ReLU-' + str(x) for x in range(1, 16+1)] #post-Conv ReLUs\n",
    "\n",
    "feature_maps = get_all_feature_maps(model, image_loader, flatten = False, \n",
    "                                    numpy = False, layers_to_retain = target_layers)"
   ]
  },
  {
   "cell_type": "code",
   "execution_count": 9,
   "id": "f44ce461-fdc4-44dc-9e7b-c8546a4a4c9e",
   "metadata": {},
   "outputs": [
    {
     "name": "stdout",
     "output_type": "stream",
     "text": [
      "ReLU-1 torch.Size([1000, 64])\n",
      "ReLU-2 torch.Size([1000, 64])\n",
      "ReLU-3 torch.Size([1000, 64])\n",
      "ReLU-4 torch.Size([1000, 64])\n",
      "ReLU-5 torch.Size([1000, 64])\n",
      "ReLU-6 torch.Size([1000, 128])\n",
      "ReLU-7 torch.Size([1000, 128])\n",
      "ReLU-8 torch.Size([1000, 128])\n",
      "ReLU-9 torch.Size([1000, 128])\n",
      "ReLU-10 torch.Size([1000, 256])\n",
      "ReLU-11 torch.Size([1000, 256])\n",
      "ReLU-12 torch.Size([1000, 256])\n",
      "ReLU-13 torch.Size([1000, 256])\n",
      "ReLU-14 torch.Size([1000, 512])\n",
      "ReLU-15 torch.Size([1000, 512])\n",
      "ReLU-16 torch.Size([1000, 512])\n"
     ]
    }
   ],
   "source": [
    "pooled_feature_maps = {}\n",
    "for model_layer, feature_map in feature_maps.items():\n",
    "    pooled_feature_map = F.adaptive_max_pool2d(feature_map, 1).squeeze()\n",
    "    print(model_layer,  pooled_feature_map.shape)\n",
    "    pooled_feature_maps[model_layer] = pooled_feature_map"
   ]
  },
  {
   "cell_type": "code",
   "execution_count": 10,
   "id": "4e7d215b-a7af-4f1e-bced-369531ec6939",
   "metadata": {},
   "outputs": [],
   "source": [
    "#double_check_data = []"
   ]
  },
  {
   "cell_type": "code",
   "execution_count": 11,
   "id": "e0250680-3860-48ac-89b3-a8efb1e1c003",
   "metadata": {},
   "outputs": [
    {
     "data": {
      "application/vnd.jupyter.widget-view+json": {
       "model_id": "77009406a28e41969dda3398ee94feb4",
       "version_major": 2,
       "version_minor": 0
      },
      "text/plain": [
       "  0%|          | 0/16 [00:00<?, ?it/s]"
      ]
     },
     "metadata": {},
     "output_type": "display_data"
    }
   ],
   "source": [
    "def get_effective_dimensionality(representation):\n",
    "    pca = PCA(random_state=0).fit(representation)\n",
    "    eigenspectrum = pca.explained_variance_\n",
    "    return eigenspectrum.sum() ** 2 / (eigenspectrum ** 2).sum()\n",
    "\n",
    "geometry_dictlist = []\n",
    "for model_layer_index, (model_layer, feature_map) in enumerate(tqdm(pooled_feature_maps.items())):\n",
    "    geometry = get_effective_dimensionality(feature_map)\n",
    "    geometry_dictlist.append({'model_layer': model_layer, 'model_layer_index': model_layer_index,\n",
    "                              'effective_dimensions': geometry})\n",
    "    \n",
    "manifold_geometry = pd.DataFrame(geometry_dictlist)\n",
    "manifold_geometry['dataset'] = 'NSD-Shared1000'\n",
    "\n",
    "double_check_data.append(manifold_geometry)"
   ]
  },
  {
   "cell_type": "code",
   "execution_count": null,
   "id": "fef71152-73fb-47d8-9277-76912ad300d1",
   "metadata": {},
   "outputs": [],
   "source": [
    "mapping = {'x': 'model_layer_index', 'y': 'effective_dimensions', 'color': 'dataset'}\n",
    "\n",
    "plotnine_opts.figure_size = (10, 5)\n",
    "\n",
    "(ggplot(data = manifold_geometry, mapping = aes(**mapping)) +\n",
    " geom_line() + geom_point() + theme_minimal() + \n",
    " labs(y = 'Effective Dimensionality', x = 'ResNet18 ReLU Layer Index', color = '')).draw();"
   ]
  },
  {
   "cell_type": "code",
   "execution_count": 15,
   "id": "e41c0bf8-a74b-427f-9fb9-569cc75f72f2",
   "metadata": {},
   "outputs": [
    {
     "data": {
      "application/vnd.jupyter.widget-view+json": {
       "model_id": "ef50304e3f794fc999bd2663a68df641",
       "version_major": 2,
       "version_minor": 0
      },
      "text/plain": [
       "Feature Extraction (Batch):   0%|          | 0/157 [00:00<?, ?it/s]"
      ]
     },
     "metadata": {},
     "output_type": "display_data"
    },
    {
     "data": {
      "application/vnd.jupyter.widget-view+json": {
       "model_id": "83bd4252e58c4ec28a393d2569d529dc",
       "version_major": 2,
       "version_minor": 0
      },
      "text/plain": [
       "  0%|          | 0/16 [00:00<?, ?it/s]"
      ]
     },
     "metadata": {},
     "output_type": "display_data"
    }
   ],
   "source": [
    "image_paths = pd.Series(glob('../image_sets/imagenet1k-val-10k-imgs/*.JPEG'))\n",
    "image_loader = DataLoader(StimulusSet(image_paths, image_transforms), batch_size = 64)\n",
    "\n",
    "feature_maps = get_all_feature_maps(model, image_loader, numpy = False, flatten = False,\n",
    "                                    layers_to_retain = target_layers)\n",
    "\n",
    "pooled_feature_maps = {}\n",
    "for model_layer, feature_map in feature_maps.items():\n",
    "    pooled_feature_maps[model_layer] = F.adaptive_max_pool2d(feature_map, 1).squeeze()\n",
    "    \n",
    "del feature_maps\n",
    "\n",
    "geometry_dictlist = []\n",
    "for model_layer_index, (model_layer, feature_map) in enumerate(tqdm(pooled_feature_maps.items())):\n",
    "    geometry = get_effective_dimensionality(feature_map)\n",
    "    geometry_dictlist.append({'model_layer': model_layer, 'model_layer_index': model_layer_index,\n",
    "                              'effective_dimensions': geometry})\n",
    "    \n",
    "manifold_geometry = pd.DataFrame(geometry_dictlist)\n",
    "manifold_geometry['dataset'] = 'ImageNet1K-Val10000'\n",
    "\n",
    "double_check_data.append(manifold_geometry)"
   ]
  },
  {
   "cell_type": "code",
   "execution_count": 30,
   "id": "61509e02-8d94-465c-acbe-8c76ddc386ca",
   "metadata": {},
   "outputs": [
    {
     "data": {
      "image/png": "[encoded data removed]",
      "text/plain": [
       "<Figure size 1000x500 with 1 Axes>"
      ]
     },
     "metadata": {
      "needs_background": "light"
     },
     "output_type": "display_data"
    }
   ],
   "source": [
    "manifold_geometry = (pd.concat(double_check_data, axis = 0)\n",
    "                     .query('model_layer_index % 2 == 1'))\n",
    "\n",
    "manifold_geometry['model_layer_index'] = manifold_geometry['model_layer_index'] // 2\n",
    "\n",
    "mapping = {'x': 'model_layer_index', 'y': 'effective_dimensions', 'color': 'dataset'}\n",
    "\n",
    "plotnine_opts.figure_size = (10, 5)\n",
    "\n",
    "(ggplot(data = manifold_geometry, mapping = aes(**mapping)) +\n",
    " geom_line() + geom_point() + theme_minimal() + scale_x_continuous(breaks = range(8)) +\n",
    " labs(y = 'Effective Dimensionality', x = 'ResNet18 ReLU Layer Index', color = '')).draw();"
   ]
  },
  {
   "cell_type": "code",
   "execution_count": 17,
   "id": "218dcff9-1fe7-4f76-95e5-97f992c8a5d6",
   "metadata": {},
   "outputs": [],
   "source": [
    "manifold_geometry.to_csv('../results_press/resnet18_effdims_check.csv', index = None)"
   ]
  },
  {
   "cell_type": "markdown",
   "id": "9fb32102-2934-424f-8b5e-b19b455b85ac",
   "metadata": {
    "tags": []
   },
   "source": [
    "### Effective Dimensionality across Models"
   ]
  },
  {
   "cell_type": "code",
   "execution_count": null,
   "id": "eecbcdd2-a07b-48d2-9e7f-26d7f695109b",
   "metadata": {},
   "outputs": [],
   "source": [
    "target_columns = ['model_string', 'model', 'train_task', 'train_data', 'architecture','metric','score']\n",
    "results_summary = pd.read_csv('press_results/results_summary.csv')[target_columns]"
   ]
  },
  {
   "cell_type": "code",
   "execution_count": null,
   "id": "f66e77e4-924f-47dd-84ad-b4ee50190445",
   "metadata": {},
   "outputs": [],
   "source": [
    "def reformat_model_string(model_string):\n",
    "    if model_string == 'ViT-B-16_clip':\n",
    "        model_string = 'ViT-B/16_clip'\n",
    "    if model_string == 'ViT-B-32_clip':\n",
    "        model_string = 'ViT-B/32_clip'\n",
    "    if model_string == 'ViT-L-14_clip':\n",
    "        model_string = 'ViT-L/14_clip'\n",
    "    if '_imagenet' in model_string and 'ipcl' not in model_string:\n",
    "        model_string = model_string.replace('_imagenet', '_classification')\n",
    "    return model_string"
   ]
  },
  {
   "cell_type": "code",
   "execution_count": null,
   "id": "828aba85-6794-4bc7-b7f9-55f85ecc8eb5",
   "metadata": {},
   "outputs": [],
   "source": [
    "target_files = glob('fresh_results/manifold_stats/shared1000_OTC-only/*.csv')\n",
    "manifold_stats = pd.concat([pd.read_csv(file) for file in target_files])\n",
    "manifold_stats['model_string'] = (manifold_stats['model_string']\n",
    "                                  .apply(lambda x: reformat_model_string(x)))"
   ]
  },
  {
   "cell_type": "code",
   "execution_count": null,
   "id": "264466f0-9f11-49e5-95a3-c3489fbc29b8",
   "metadata": {},
   "outputs": [],
   "source": [
    "'Number of unique models', len(manifold_stats.model_string.unique())"
   ]
  },
  {
   "cell_type": "code",
   "execution_count": null,
   "id": "b20e135c-c919-4b35-ac6e-3749396fd747",
   "metadata": {},
   "outputs": [],
   "source": [
    "plot_data = manifold_stats.merge(results_summary, on = ['model_string'])\n",
    "plot_data = plot_data[~plot_data['train_task'].isin(['random'])]\n",
    "plot_data = plot_data[plot_data['metric'].isin(['crsa','wrsa'])]\n",
    "plot_data['effective_dimensions'] = np.log(plot_data['effective_dimensions'])\n",
    "sns.lmplot(data = plot_data, x = 'effective_dimensions', y = 'score', \n",
    "           col = 'metric', row = 'random_projection')"
   ]
  },
  {
   "cell_type": "code",
   "execution_count": null,
   "id": "3493cf60-a011-4a2f-b60f-98d5911312bc",
   "metadata": {},
   "outputs": [],
   "source": [
    "manifold_stats.to_csv('../results_press/manifold_stats.csv', index = None)"
   ]
  }
 ],
 "metadata": {
  "kernelspec": {
   "display_name": "Synthese",
   "language": "python",
   "name": "synthese"
  },
  "language_info": {
   "codemirror_mode": {
    "name": "ipython",
    "version": 3
   },
   "file_extension": ".py",
   "mimetype": "text/x-python",
   "name": "python",
   "nbconvert_exporter": "python",
   "pygments_lexer": "ipython3",
   "version": "3.10.13"
  },
  "vscode": {
   "interpreter": {
    "hash": "7863deda28c2bbbeadddba67b96758f51af59736d922b2a4440bab3e43d09602"
   }
  },
  "widgets": {
   "application/vnd.jupyter.widget-state+json": {
    "state": {},
    "version_major": 2,
    "version_minor": 0
   }
  }
 },
 "nbformat": 4,
 "nbformat_minor": 5
}
