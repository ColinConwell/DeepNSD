{
 "cells": [
  {
   "cell_type": "code",
   "execution_count": 1,
   "id": "bfcc42cf-92f3-4d59-b826-4f877589e99b",
   "metadata": {},
   "outputs": [],
   "source": [
    "from advance_nsd import *\n",
    "from glob import glob\n",
    "import seaborn as sns\n",
    "from plotnine import *\n",
    "from plotnine import options\n",
    "options.figure_size = (10,10)"
   ]
  },
  {
   "cell_type": "markdown",
   "id": "f5e7b2a6-1310-4a6d-ab7f-a37ffdcc91c4",
   "metadata": {
    "tags": []
   },
   "source": [
    "### Aggregation + MDS"
   ]
  },
  {
   "cell_type": "code",
   "execution_count": 2,
   "id": "8d6264c1-6242-4bb7-aa2d-6de79e738213",
   "metadata": {},
   "outputs": [],
   "source": [
    "from sklearn import manifold"
   ]
  },
  {
   "cell_type": "code",
   "execution_count": 3,
   "id": "9655edb8-74a5-4c83-b940-13494192a933",
   "metadata": {},
   "outputs": [],
   "source": [
    "def reformat_model_string(model_string):\n",
    "    if model_string == 'ViT-B-16_clip':\n",
    "        model_string = 'ViT-B/16_clip'\n",
    "    if model_string == 'ViT-B-32_clip':\n",
    "        model_string = 'ViT-B/32_clip'\n",
    "    if model_string == 'ViT-L-14_clip':\n",
    "        model_string = 'ViT-L/14_clip'\n",
    "    if '_imagenet' in model_string and 'ipcl' not in model_string:\n",
    "        model_string = model_string.replace('_imagenet', '_classification')\n",
    "    return model_string\n",
    "\n",
    "def fold_correlation_matrix(cor_mat, names = None, remove_mirrors = True, remove_selfsame = True):\n",
    "    if isinstance(names, pd.Series):\n",
    "        names = names.to_list()\n",
    "    \n",
    "    if not isinstance(cor_mat, pd.DataFrame):\n",
    "        cor_mat = pd.DataFrame(data = cor_mat, index = names, columns = names)\n",
    "        \n",
    "    cor_mat = cor_mat.stack().reset_index()\n",
    "    cor_mat.columns = ['var1','var2','correlation']\n",
    "    \n",
    "    if remove_mirrors:\n",
    "        cor_mat = (cor_mat.loc[pd.DataFrame(np.sort(cor_mat[['var1','var2']],1),index=cor_mat.index)\n",
    "                       .drop_duplicates(keep='first').index])\n",
    "        \n",
    "    if remove_selfsame:\n",
    "        cor_mat = cor_mat[cor_mat['var1'] != cor_mat['var2']]\n",
    "        \n",
    "    return(cor_mat)"
   ]
  },
  {
   "cell_type": "code",
   "execution_count": 10,
   "id": "b97b6749-47a7-4cbb-aff0-227d6985c905",
   "metadata": {},
   "outputs": [
    {
     "data": {
      "application/vnd.jupyter.widget-view+json": {
       "model_id": "4127677c87b4473883250a7ca9972d58",
       "version_major": 2,
       "version_minor": 0
      },
      "text/plain": [
       "  0%|          | 0/225 [00:00<?, ?it/s]"
      ]
     },
     "metadata": {},
     "output_type": "display_data"
    },
    {
     "data": {
      "application/vnd.jupyter.widget-view+json": {
       "model_id": "806ce99420804a418386b79490df8ffd",
       "version_major": 2,
       "version_minor": 0
      },
      "text/plain": [
       "  0%|          | 0/225 [00:00<?, ?it/s]"
      ]
     },
     "metadata": {},
     "output_type": "display_data"
    }
   ],
   "source": [
    "model_rsa_dict = {}\n",
    "for metric in ['crsa','wrsa']:\n",
    "    model_rsa_dict[metric] = {}\n",
    "    results_path = f'../results_fresh/model_rsa/shared1000_OTC-only/{metric}/*.parquet'\n",
    "    for model_path in tqdm(glob(results_path)):\n",
    "        model_string = model_path.split('/')[-1].split('.')[0]\n",
    "        model_string = reformat_model_string(model_string)\n",
    "        rsm = pd.read_parquet(model_path).to_numpy()\n",
    "        rsv = rsm[np.triu_indices(rsm.shape[0], k=1)]\n",
    "        model_rsa_dict[metric][model_string] = rsv"
   ]
  },
  {
   "cell_type": "code",
   "execution_count": 11,
   "id": "aaa8ea94-4d8d-46fc-933a-b325fe73888a",
   "metadata": {},
   "outputs": [
    {
     "data": {
      "text/plain": [
       "('Number of unique models', 225, 225)"
      ]
     },
     "execution_count": 11,
     "metadata": {},
     "output_type": "execute_result"
    }
   ],
   "source": [
    "'Number of unique models', len(model_rsa_dict['crsa']), len(model_rsa_dict['wrsa'])"
   ]
  },
  {
   "cell_type": "code",
   "execution_count": 12,
   "id": "89ca5444-ea50-4539-9f9e-a3eddcb8eb8b",
   "metadata": {},
   "outputs": [],
   "source": [
    "uber_rsms = {'crsa': pd.DataFrame(model_rsa_dict['crsa']).corr(),\n",
    "             'wrsa': pd.DataFrame(model_rsa_dict['wrsa']).corr()}"
   ]
  },
  {
   "cell_type": "code",
   "execution_count": 13,
   "id": "8ee02098-1bec-4fe4-bd2e-c5593a8913b8",
   "metadata": {},
   "outputs": [],
   "source": [
    "uber_rsm_crsa = np.corrcoef(np.stack(list(model_rsa_dict['crsa'].values())))\n",
    "uber_rsa_crsa = fold_correlation_matrix(uber_rsm_crsa, names = list(model_rsa_dict['crsa'].keys()))\n",
    "\n",
    "uber_rsm_wrsa = np.corrcoef(np.stack(list(model_rsa_dict['wrsa'].values())))\n",
    "uber_rsa_wrsa = fold_correlation_matrix(uber_rsm_wrsa, names = list(model_rsa_dict['wrsa'].keys()))\n",
    "\n",
    "uber_rsa_crsa['metric'] = 'crsa'\n",
    "uber_rsa_wrsa['metric'] = 'wrsa'\n",
    "\n",
    "uber_rsa_combo = pd.concat([uber_rsa_crsa, uber_rsa_wrsa])"
   ]
  },
  {
   "cell_type": "code",
   "execution_count": 14,
   "id": "f23b8a18-0f2f-4ba0-951f-eebc46635c04",
   "metadata": {},
   "outputs": [
    {
     "data": {
      "image/png": "[encoded data removed]",
      "text/plain": [
       "<Figure size 419.625x360 with 1 Axes>"
      ]
     },
     "metadata": {
      "needs_background": "light"
     },
     "output_type": "display_data"
    }
   ],
   "source": [
    "plot_data = uber_rsa_combo[~(uber_rsa_combo['var1'].str.contains('_random')) &\n",
    "                           ~(uber_rsa_combo['var2'].str.contains('_random'))]\n",
    "\n",
    "sns.displot(data=plot_data, x=\"correlation\", hue = 'metric', kde=True);"
   ]
  },
  {
   "cell_type": "code",
   "execution_count": 15,
   "id": "c2b8e33b-85ab-4a69-90e4-bef24a75d06f",
   "metadata": {},
   "outputs": [],
   "source": [
    "uber_rsa_combo.to_csv('../results_press/model_uber_rsa.csv', index = None)"
   ]
  },
  {
   "cell_type": "code",
   "execution_count": 24,
   "id": "f8318125-0383-4602-94e7-bf6afa5245d8",
   "metadata": {},
   "outputs": [],
   "source": [
    "uber_rsm = np.corrcoef(np.stack(list(model_rsa_dict['crsa'].values()) + \n",
    "                                list(model_rsa_dict['wrsa'].values()), axis = 1).transpose())\n",
    "\n",
    "mds = manifold.MDS(n_components=2, max_iter=3000, eps=1e-9, random_state=1, \n",
    "                   dissimilarity=\"precomputed\", n_jobs=1)\n",
    "\n",
    "embeddings = mds.fit_transform(1 - uber_rsm)\n",
    "embeddings = pd.DataFrame(embeddings)\n",
    "embeddings.columns = ['x','y']\n",
    "embeddings['metric'] = ['crsa'] * len(model_rsa_dict['crsa']) + ['wrsa'] * len(model_rsa_dict['wrsa'])\n",
    "embeddings['model_string'] = (list(model_rsa_dict['crsa'].keys()) + \n",
    "                              list(model_rsa_dict['wrsa'].keys()))\n",
    "embeddings['train_type'] = embeddings['model_string'].str.split('_').str[-1]"
   ]
  },
  {
   "cell_type": "code",
   "execution_count": 29,
   "id": "8cb282a2-b502-4917-850a-19d84401b742",
   "metadata": {},
   "outputs": [],
   "source": [
    "set_names = (list(['crsa_' + key for key in model_rsa_dict['crsa'].keys()]) + \n",
    "             list(['wrsa_' + key for key in model_rsa_dict['wrsa'].keys()]))\n",
    "            \n",
    "uber_rsm_out = pd.DataFrame(uber_rsm)\n",
    "uber_rsm_out.index = set_names\n",
    "uber_rsm_out.columns = set_names"
   ]
  },
  {
   "cell_type": "code",
   "execution_count": 31,
   "id": "ad3caed8-8f24-4f11-b9ed-e481eb6f0ac4",
   "metadata": {},
   "outputs": [],
   "source": [
    "uber_rsm_out.to_parquet('../results_press/model_uber_rsm.parquet', index=None)"
   ]
  }
 ],
 "metadata": {
  "kernelspec": {
   "display_name": "Synthese",
   "language": "python",
   "name": "synthese"
  },
  "language_info": {
   "codemirror_mode": {
    "name": "ipython",
    "version": 3
   },
   "file_extension": ".py",
   "mimetype": "text/x-python",
   "name": "python",
   "nbconvert_exporter": "python",
   "pygments_lexer": "ipython3",
   "version": "3.10.13"
  },
  "widgets": {
   "application/vnd.jupyter.widget-state+json": {
    "state": {},
    "version_major": 2,
    "version_minor": 0
   }
  }
 },
 "nbformat": 4,
 "nbformat_minor": 5
}
